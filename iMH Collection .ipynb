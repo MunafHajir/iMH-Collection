{
 "cells": [
  {
   "cell_type": "code",
   "execution_count": 9,
   "metadata": {},
   "outputs": [
    {
     "name": "stdout",
     "output_type": "stream",
     "text": [
      "5\n",
      "8 9 5 2 4\n",
      "8\n",
      "5\n",
      "4\n",
      "2\n"
     ]
    }
   ],
   "source": [
    "if __name__ == '__main__':\n",
    "    n = int(input())\n",
    "    arr = map(int, input().split())\n",
    "    nums=sorted(arr, reverse = True)\n",
    "    \n",
    "    for i in range(len(nums)):\n",
    "        if nums[i]<nums[0]:\n",
    "            \n",
    "            print(nums[i])\n",
    "            break\n",
    "    "
   ]
  },
  {
   "cell_type": "code",
   "execution_count": null,
   "metadata": {
    "collapsed": true
   },
   "outputs": [],
   "source": []
  },
  {
   "cell_type": "code",
   "execution_count": 8,
   "metadata": {
    "scrolled": true
   },
   "outputs": [
    {
     "data": {
      "text/plain": [
       "19"
      ]
     },
     "execution_count": 8,
     "metadata": {},
     "output_type": "execute_result"
    }
   ],
   "source": [
    "def centuryFromYear(year):  \n",
    "    return (year - 1) // 100 + 1\n",
    "\n",
    "\n",
    "#century(1908)\n",
    "centuryFromYear(1900)"
   ]
  },
  {
   "cell_type": "code",
   "execution_count": 3,
   "metadata": {},
   "outputs": [
    {
     "name": "stdout",
     "output_type": "stream",
     "text": [
      "True\n",
      "False\n"
     ]
    }
   ],
   "source": [
    "def coolString(inputString):\n",
    "\n",
    "    def isLowercase(symbol):\n",
    "        if 'a' <= symbol <= 'z':\n",
    "            return True\n",
    "        return False\n",
    "\n",
    "    def isUppercase(symbol):\n",
    "        if 'A' <= symbol <= 'Z':\n",
    "            return True\n",
    "        return False\n",
    "\n",
    "    firstIsLowercase = isLowercase(inputString[0])\n",
    "    firstIsUppercase = isUppercase(inputString[0])\n",
    "\n",
    "    if not (firstIsLowercase or firstIsUppercase):\n",
    "        return False\n",
    "\n",
    "    for i in range(1, len(inputString)):\n",
    "        if i % 2 == 1:\n",
    "            if (isLowercase(inputString[i]) == firstIsLowercase or\n",
    "                    isUppercase(inputString[i]) == firstIsUppercase):\n",
    "                return False\n",
    "        else:\n",
    "            if (isLowercase(inputString[i]) != firstIsLowercase or\n",
    "                    isUppercase(inputString[i]) != firstIsUppercase):\n",
    "                return False\n",
    "\n",
    "    return True\n",
    "\n",
    "\n",
    "print(coolString('aWiH'))\n",
    "print(coolString('aWih'))"
   ]
  },
  {
   "cell_type": "code",
   "execution_count": 5,
   "metadata": {},
   "outputs": [
    {
     "name": "stdout",
     "output_type": "stream",
     "text": [
      "True\n"
     ]
    }
   ],
   "source": [
    "def isInsideTheCircle(xa, ya, xc, yc, rc):\n",
    "    dist = (xa - xc) * (xa - xc) + (ya - yc) * (ya - yc);\n",
    "    \n",
    "    rc = rc ** 2\n",
    "    \n",
    "    return dist < rc\n",
    "\n",
    "print(isInsideTheCircle(4,5,6,7,5))"
   ]
  },
  {
   "cell_type": "code",
   "execution_count": 6,
   "metadata": {},
   "outputs": [
    {
     "name": "stdout",
     "output_type": "stream",
     "text": [
      "5\n"
     ]
    }
   ],
   "source": [
    "def combs(comb1, comb2):\n",
    "\n",
    "    def getMask(comb):\n",
    "        mask = 0\n",
    "        for i in range(0, len(comb)):\n",
    "            c = comb[i]\n",
    "            mask = (mask << 1) + (c == '*')\n",
    "        return mask\n",
    "\n",
    "    m1 = getMask(comb1)\n",
    "    m2 = getMask(comb2)\n",
    "    len1 = len(comb1)\n",
    "    len2 = len(comb2)\n",
    "    answer = len1 + len2\n",
    "    for i in range(-len1, len2 + 1):\n",
    "        if i < 0:\n",
    "            tmp = m2 << (-i) & m1\n",
    "            length = max(-i + len2, len1)\n",
    "        else:\n",
    "            tmp = m1 << i & m2\n",
    "            length = max(i + len1, len2)\n",
    "        if tmp == 0 and answer > length:\n",
    "            answer = length\n",
    "\n",
    "    return answer\n",
    "\n",
    "print(combs(\"*..*\",\"*.*\"))"
   ]
  },
  {
   "cell_type": "code",
   "execution_count": 7,
   "metadata": {},
   "outputs": [
    {
     "name": "stdout",
     "output_type": "stream",
     "text": [
      "2\n"
     ]
    }
   ],
   "source": [
    "def digitDegree(n):\n",
    "\n",
    "    def digitSum(n):\n",
    "        sum = 0\n",
    "        while n > 0:\n",
    "            sum +=  n%10 \n",
    "            n //= 10\n",
    "        return sum\n",
    "\n",
    "    result = 0\n",
    "\n",
    "    while n > 9:\n",
    "        result += 1\n",
    "        n = digitSum(n)\n",
    "\n",
    "    return result\n",
    "\n",
    "print(digitDegree(91))"
   ]
  },
  {
   "cell_type": "code",
   "execution_count": null,
   "metadata": {},
   "outputs": [
    {
     "name": "stdout",
     "output_type": "stream",
     "text": [
      "Rock, Paper, Scissors?Rock\n",
      "You lose! Paper covers Rock\n",
      "Rock, Paper, Scissors?Scissors\n",
      "You lose... Rock smashes Scissors\n",
      "Rock, Paper, Scissors?PApe\n",
      "That's not a valid play. Check your spelling!\n",
      "Rock, Paper, Scissors?Paper\n",
      "You win! Paper covers Rock\n"
     ]
    }
   ],
   "source": [
    "from random import randint\n",
    " \n",
    "t = [\"Rock\", \"Paper\", \"Scissors\"]\n",
    " \n",
    "computer = t[randint(0,2)]\n",
    " \n",
    "player = False\n",
    " \n",
    "while player == False:\n",
    "    player = input(\"Rock, Paper, Scissors?\")\n",
    "    if player == computer:\n",
    "        print(\"Tie!\")\n",
    "    elif player == \"Rock\":\n",
    "        if computer == \"Paper\":\n",
    "            print(\"You lose!\", computer, \"covers\", player)\n",
    "        else:\n",
    "            print(\"You win!\", player, \"smashes\", computer)\n",
    "    elif player == \"Paper\":\n",
    "        if computer == \"Scissors\":\n",
    "            print(\"You lose!\", computer, \"cut\", player)\n",
    "        else:\n",
    "            print(\"You win!\", player, \"covers\", computer)\n",
    "    elif player == \"Scissors\":\n",
    "        if computer == \"Rock\":\n",
    "            print(\"You lose...\", computer, \"smashes\", player)\n",
    "        else:\n",
    "            print(\"You win!\", player, \"cut\", computer)\n",
    "    else:\n",
    "        print(\"That's not a valid play. Check your spelling!\")\n",
    "    \n",
    "    player = False\n",
    "    computer = t[randint(0,2)]"
   ]
  },
  {
   "cell_type": "code",
   "execution_count": 2,
   "metadata": {},
   "outputs": [
    {
     "name": "stdout",
     "output_type": "stream",
     "text": [
      "True\n"
     ]
    }
   ],
   "source": [
    "def regularBracketSequence1(sequence):\n",
    "    first = 0\n",
    "    second = 0\n",
    "    \n",
    "    if sequence[0] == ')':\n",
    "        return False\n",
    "    \n",
    "    for i in sequence:\n",
    "        if i == '(':\n",
    "            first += 1\n",
    "            \n",
    "        elif i ==')':\n",
    "            second += 1\n",
    "            \n",
    "    return first == second\n",
    "\n",
    "print(regularBracketSequence1('(())'))\n"
   ]
  },
  {
   "cell_type": "code",
   "execution_count": 2,
   "metadata": {},
   "outputs": [
    {
     "data": {
      "text/plain": [
       "'Ready'"
      ]
     },
     "execution_count": 2,
     "metadata": {},
     "output_type": "execute_result"
    }
   ],
   "source": [
    "def longestWord(text):\n",
    "    answer=''\n",
    "    current = []\n",
    "    \n",
    "    for i in range(len(text)):\n",
    "        if 'a'<= text[i] and text[i] <= 'z' or 'A' <= text[i] and text[i] <= 'Z':\n",
    "            current.append(text[i])\n",
    "            \n",
    "            if len(current) > len(answer):\n",
    "                answer = current[i]\n",
    "                \n",
    "            else:\n",
    "                current=[]\n",
    "    return answer\n",
    "\n",
    "text = [\"Ready\", \"steady\", \"go!\"]\n",
    "longestWord(text)"
   ]
  },
  {
   "cell_type": "code",
   "execution_count": null,
   "metadata": {
    "collapsed": true
   },
   "outputs": [],
   "source": [
    "def isInfiniteProcess(a, b):\n",
    "    \n",
    "    while a!=b:\n",
    "        \n",
    "        a+=1\n",
    "        b-=1\n",
    "        if a==-1 or b==-1:\n",
    "          return True\n",
    "    \n",
    "    return False"
   ]
  },
  {
   "cell_type": "code",
   "execution_count": 7,
   "metadata": {},
   "outputs": [
    {
     "data": {
      "text/plain": [
       "9"
      ]
     },
     "execution_count": 7,
     "metadata": {},
     "output_type": "execute_result"
    }
   ],
   "source": [
    "def kthDigit(n, k):\n",
    "    l = []\n",
    "    l = list(str(n))\n",
    "    \n",
    "    while(k!=0):\n",
    "        return int(l[k-1])\n",
    "\n",
    "n = 57894315489\n",
    "k=11\n",
    "kthDigit(n,k)"
   ]
  },
  {
   "cell_type": "code",
   "execution_count": 9,
   "metadata": {
    "collapsed": true
   },
   "outputs": [],
   "source": [
    "def kthDigit(n, k):\n",
    "    \n",
    "    l=[]\n",
    "    l=list(str(n))\n",
    "    if k<= len(l):\n",
    "        return int(l[k-1])\n",
    "    else:\n",
    "        return -1"
   ]
  },
  {
   "cell_type": "code",
   "execution_count": 10,
   "metadata": {},
   "outputs": [
    {
     "name": "stdout",
     "output_type": "stream",
     "text": [
      "15\n"
     ]
    }
   ],
   "source": [
    "def sum(arr):\n",
    "    if len(arr) == 0:\n",
    "        return 0\n",
    "     \n",
    "    return arr[0] + sum(arr[1:len(arr)])\n",
    "     \n",
    "s = sum([1,2,3,4,5])\n",
    "print(s)"
   ]
  },
  {
   "cell_type": "code",
   "execution_count": 2,
   "metadata": {},
   "outputs": [
    {
     "data": {
      "text/plain": [
       "[2, 5, 13]"
      ]
     },
     "execution_count": 2,
     "metadata": {},
     "output_type": "execute_result"
    }
   ],
   "source": [
    "def fibonacciSum(n):\n",
    "\n",
    "    fib = []\n",
    "    fib0 = 1\n",
    "    fib1 = 1\n",
    "    fib.append(fib1)\n",
    "    while fib1 < n:\n",
    "        fib2 = fib0 + fib1\n",
    "        fib.append(fib2)\n",
    "        fib0 = fib1\n",
    "        fib1 = fib2\n",
    "\n",
    "    ans = []\n",
    "    for i in range(len(fib) - 1, -1, -1):\n",
    "        if n >= fib[i]:\n",
    "            n -= fib[i] \n",
    "            ans.append(fib[i])\n",
    "\n",
    "    return list(reversed(ans))\n",
    "\n",
    "fibonacciSum(20)\n"
   ]
  },
  {
   "cell_type": "code",
   "execution_count": 5,
   "metadata": {},
   "outputs": [
    {
     "name": "stdout",
     "output_type": "stream",
     "text": [
      "2\n"
     ]
    }
   ],
   "source": [
    "for i in range(len(matrix)):\n",
    "    for j in range(len(matrix[i])):\n",
    "        if i!= len(matrix)-1:\n",
    "            matrix[i][j]+=1\n",
    "            \n",
    "        if i!=0:\n",
    "            matrix[i][j]+=1\n",
    "            \n",
    "        if j != len(matrix[0]) - 1:\n",
    "            matrixp[i][j] += 1\n",
    "            \n",
    "        if j!=0:\n",
    "            matrixp[i][j] += 1\n",
    "            \n",
    "return matrix\n",
    "        "
   ]
  },
  {
   "cell_type": "code",
   "execution_count": 6,
   "metadata": {},
   "outputs": [
    {
     "data": {
      "text/plain": [
       "21784"
      ]
     },
     "execution_count": 6,
     "metadata": {},
     "output_type": "execute_result"
    }
   ],
   "source": [
    "def arrayPacking(a):\n",
    "    res = 0\n",
    "    \n",
    "    for i in range(len(a)):\n",
    "        res |= a[i] << (8*i)\n",
    "        \n",
    "    return res\n",
    "\n",
    "a=[24,85,0]\n",
    "arrayPacking(a)"
   ]
  },
  {
   "cell_type": "code",
   "execution_count": 3,
   "metadata": {},
   "outputs": [
    {
     "name": "stdout",
     "output_type": "stream",
     "text": [
      "[True, False]\n"
     ]
    }
   ],
   "source": [
    "xs =[()]\n",
    "\n",
    "res = [False] * 2\n",
    "\n",
    "if xs :\n",
    "    res[0] = True\n",
    "    \n",
    "if xs[0]:\n",
    "    res[1] = True\n",
    "    \n",
    "print(res)"
   ]
  },
  {
   "cell_type": "code",
   "execution_count": 7,
   "metadata": {},
   "outputs": [
    {
     "data": {
      "text/plain": [
       "0"
      ]
     },
     "execution_count": 7,
     "metadata": {},
     "output_type": "execute_result"
    }
   ],
   "source": [
    "def modulus(n):\n",
    "    if n == int(n) :\n",
    "        return n % 2\n",
    "    else:\n",
    "        return -1\n",
    "    \n",
    "#modulus(15)\n",
    "modulus(2.5)\n",
    "modulus(16)"
   ]
  },
  {
   "cell_type": "code",
   "execution_count": 8,
   "metadata": {},
   "outputs": [
    {
     "data": {
      "text/plain": [
       "4"
      ]
     },
     "execution_count": 8,
     "metadata": {},
     "output_type": "execute_result"
    }
   ],
   "source": [
    "def countBits(n):\n",
    "    return n.bit_length()\n",
    "\n",
    "countBits(15)"
   ]
  },
  {
   "cell_type": "code",
   "execution_count": 9,
   "metadata": {
    "collapsed": true
   },
   "outputs": [],
   "source": [
    "def pagesNumberingWithInk(current, numberOfDigits):\n",
    "\n",
    "    def countDigitsInNumber(n):\n",
    "        count = 0\n",
    "        while n > 0:\n",
    "            count += 1\n",
    "            n //= 10\n",
    "        return count\n",
    "    digitsInCurrent = countDigitsInNumber(current)\n",
    "    while numberOfDigits >= digitsInCurrent:\n",
    "        numberOfDigits -=  digitsInCurrent\n",
    "        current += 1\n",
    "        digitsInCurrent = countDigitsInNumber(current)\n",
    "    return current - 1"
   ]
  },
  {
   "cell_type": "code",
   "execution_count": 12,
   "metadata": {},
   "outputs": [
    {
     "name": "stdout",
     "output_type": "stream",
     "text": [
      "[(1, 5), (4, 5), (5, 6)]\n"
     ]
    }
   ],
   "source": [
    "x = [1,4,5]\n",
    "y = [5,5,6]\n",
    "\n",
    "zipped = zip(x,y)\n",
    "print(list(zipped))"
   ]
  },
  {
   "cell_type": "code",
   "execution_count": 13,
   "metadata": {
    "collapsed": true
   },
   "outputs": [],
   "source": [
    "def willYou(young, beautiful, loved):\n",
    "    if young == True and beautiful == True:\n",
    "        if loved == False:\n",
    "            return True\n",
    "        \n",
    "        else:\n",
    "            return False\n",
    "    \n",
    "    elif loved == True:\n",
    "        if young == False or beautiful == False:\n",
    "            return True\n",
    "        \n",
    "        else:\n",
    "            return False\n",
    "    \n",
    "    else:\n",
    "        return False"
   ]
  },
  {
   "cell_type": "code",
   "execution_count": 14,
   "metadata": {
    "collapsed": true
   },
   "outputs": [],
   "source": [
    "def willYou(young, beautiful, loved):\n",
    "    return (beautiful and young) != loved"
   ]
  },
  {
   "cell_type": "code",
   "execution_count": 20,
   "metadata": {},
   "outputs": [
    {
     "data": {
      "text/plain": [
       "'0'"
      ]
     },
     "execution_count": 20,
     "metadata": {},
     "output_type": "execute_result"
    }
   ],
   "source": [
    "def champernowneDigit(n):\n",
    "    d = []\n",
    "    \n",
    "    s =''\n",
    "    \n",
    "    for i in range(1,n+1):\n",
    "        s+=str(i)\n",
    "    d.append(list(s))\n",
    "    ans = int(d[0][n-1])\n",
    "    \n",
    "    return ans\n",
    "champernowneDigit(11)"
   ]
  },
  {
   "cell_type": "code",
   "execution_count": 1,
   "metadata": {},
   "outputs": [
    {
     "data": {
      "text/plain": [
       "21"
      ]
     },
     "execution_count": 1,
     "metadata": {},
     "output_type": "execute_result"
    }
   ],
   "source": [
    "def arrayAdjacent(num):\n",
    "    \n",
    "    ll = [x*y for(x,y) in zip(num[:-1],num[1:])]\n",
    "    \n",
    "    return max(ll)\n",
    "\n",
    "l = [3,6,-2,-5,7,3]\n",
    "arrayAdjacent(l)"
   ]
  },
  {
   "cell_type": "code",
   "execution_count": 2,
   "metadata": {},
   "outputs": [
    {
     "data": {
      "text/plain": [
       "'Hfi modod'"
      ]
     },
     "execution_count": 2,
     "metadata": {},
     "output_type": "execute_result"
    }
   ],
   "source": [
    "def capT(wor):\n",
    "    return wor.capitalize()\n",
    "\n",
    "capT(\"hfi modod\")"
   ]
  },
  {
   "cell_type": "code",
   "execution_count": 6,
   "metadata": {},
   "outputs": [
    {
     "data": {
      "text/plain": [
       "13"
      ]
     },
     "execution_count": 6,
     "metadata": {},
     "output_type": "execute_result"
    }
   ],
   "source": [
    "def shapeArea(n):\n",
    "    area = 1\n",
    "    \n",
    "    while n > 1:\n",
    "        area += (n-1)*4\n",
    "        n -= 1\n",
    "    return area\n",
    "\n",
    "shapeArea(3)"
   ]
  },
  {
   "cell_type": "code",
   "execution_count": 8,
   "metadata": {},
   "outputs": [
    {
     "data": {
      "text/plain": [
       "'def m e gaDifficu ltFun ction(x):'"
      ]
     },
     "execution_count": 8,
     "metadata": {},
     "output_type": "execute_result"
    }
   ],
   "source": [
    "def catWalk(code):\n",
    "    return \" \".join(code.split())\n",
    "\n",
    "catWalk(\"def      m   e  gaDifficu     ltFun        ction(x):\")"
   ]
  },
  {
   "cell_type": "code",
   "execution_count": 9,
   "metadata": {},
   "outputs": [
    {
     "data": {
      "text/plain": [
       "'    return False'"
      ]
     },
     "execution_count": 9,
     "metadata": {},
     "output_type": "execute_result"
    }
   ],
   "source": [
    "def convertTabs(code, x):\n",
    "    return (\" \"*x).join(code.split(\"\\t\"))\n",
    "\n",
    "convertTabs(\"\\treturn False\",4)"
   ]
  },
  {
   "cell_type": "code",
   "execution_count": 10,
   "metadata": {
    "collapsed": true
   },
   "outputs": [],
   "source": [
    "import textwrap\n",
    "\n",
    "def feedbackReview(feedback, size):\n",
    "    return textwrap.wrap(feedback,size)"
   ]
  },
  {
   "cell_type": "code",
   "execution_count": 13,
   "metadata": {},
   "outputs": [
    {
     "name": "stdout",
     "output_type": "stream",
     "text": [
      "Munaf\n",
      "Hi Munaf\n"
     ]
    }
   ],
   "source": [
    "from string import Template\n",
    "\n",
    "s = Template('Hi $who')\n",
    "name = input()\n",
    "\n",
    "new = s.substitute(who = name)\n",
    "\n",
    "print(new)\n",
    "\n"
   ]
  },
  {
   "cell_type": "code",
   "execution_count": 18,
   "metadata": {},
   "outputs": [
    {
     "data": {
      "text/plain": [
       "'ca'"
      ]
     },
     "execution_count": 18,
     "metadata": {},
     "output_type": "execute_result"
    }
   ],
   "source": [
    "def baseConversion(n, x):\n",
    "    return '{0:x}'.format(int(n,x))\n",
    "\n",
    "baseConversion(\"1302\",5)"
   ]
  },
  {
   "cell_type": "code",
   "execution_count": 2,
   "metadata": {},
   "outputs": [
    {
     "ename": "NameError",
     "evalue": "name 'string' is not defined",
     "output_type": "error",
     "traceback": [
      "\u001b[1;31m---------------------------------------------------------------------------\u001b[0m",
      "\u001b[1;31mNameError\u001b[0m                                 Traceback (most recent call last)",
      "\u001b[1;32m<ipython-input-2-8aa798f37555>\u001b[0m in \u001b[0;36m<module>\u001b[1;34m()\u001b[0m\n\u001b[0;32m      3\u001b[0m     \u001b[1;32mreturn\u001b[0m \u001b[0mpassword\u001b[0m\u001b[1;33m.\u001b[0m\u001b[0mtranslate\u001b[0m\u001b[1;33m(\u001b[0m\u001b[0mtable\u001b[0m\u001b[1;33m)\u001b[0m\u001b[1;33m\u001b[0m\u001b[0m\n\u001b[0;32m      4\u001b[0m \u001b[1;33m\u001b[0m\u001b[0m\n\u001b[1;32m----> 5\u001b[1;33m \u001b[0mpermutationCipher\u001b[0m\u001b[1;33m(\u001b[0m\u001b[1;34m\"Latifa\"\u001b[0m\u001b[1;33m,\u001b[0m\u001b[1;34m\"abcdefghijklmnopqrstuvwxyz\"\u001b[0m\u001b[1;33m)\u001b[0m\u001b[1;33m\u001b[0m\u001b[0m\n\u001b[0m",
      "\u001b[1;32m<ipython-input-2-8aa798f37555>\u001b[0m in \u001b[0;36mpermutationCipher\u001b[1;34m(password, key)\u001b[0m\n\u001b[0;32m      1\u001b[0m \u001b[1;32mdef\u001b[0m \u001b[0mpermutationCipher\u001b[0m\u001b[1;33m(\u001b[0m\u001b[0mpassword\u001b[0m\u001b[1;33m,\u001b[0m \u001b[0mkey\u001b[0m\u001b[1;33m)\u001b[0m\u001b[1;33m:\u001b[0m\u001b[1;33m\u001b[0m\u001b[0m\n\u001b[1;32m----> 2\u001b[1;33m     \u001b[0mtable\u001b[0m \u001b[1;33m=\u001b[0m \u001b[0mpassword\u001b[0m\u001b[1;33m.\u001b[0m\u001b[0mmaketrans\u001b[0m\u001b[1;33m(\u001b[0m\u001b[0mstring\u001b[0m\u001b[1;33m.\u001b[0m\u001b[0mascii_lowercase\u001b[0m\u001b[1;33m,\u001b[0m\u001b[0mkey\u001b[0m\u001b[1;33m)\u001b[0m\u001b[1;33m\u001b[0m\u001b[0m\n\u001b[0m\u001b[0;32m      3\u001b[0m     \u001b[1;32mreturn\u001b[0m \u001b[0mpassword\u001b[0m\u001b[1;33m.\u001b[0m\u001b[0mtranslate\u001b[0m\u001b[1;33m(\u001b[0m\u001b[0mtable\u001b[0m\u001b[1;33m)\u001b[0m\u001b[1;33m\u001b[0m\u001b[0m\n\u001b[0;32m      4\u001b[0m \u001b[1;33m\u001b[0m\u001b[0m\n\u001b[0;32m      5\u001b[0m \u001b[0mpermutationCipher\u001b[0m\u001b[1;33m(\u001b[0m\u001b[1;34m\"Latifa\"\u001b[0m\u001b[1;33m,\u001b[0m\u001b[1;34m\"abcdefghijklmnopqrstuvwxyz\"\u001b[0m\u001b[1;33m)\u001b[0m\u001b[1;33m\u001b[0m\u001b[0m\n",
      "\u001b[1;31mNameError\u001b[0m: name 'string' is not defined"
     ]
    }
   ],
   "source": [
    "def permutationCipher(password, key):\n",
    "    table = str.maketrans(string.ascii_lowercase,key)\n",
    "    return password.translate(table)\n",
    "\n",
    "permutationCipher()"
   ]
  },
  {
   "cell_type": "code",
   "execution_count": 17,
   "metadata": {},
   "outputs": [
    {
     "data": {
      "text/plain": [
       "6"
      ]
     },
     "execution_count": 17,
     "metadata": {},
     "output_type": "execute_result"
    }
   ],
   "source": [
    "def calculationofcoins(a,b,c):\n",
    "    count = 0\n",
    "    if a==b==c:\n",
    "        count+=1\n",
    "        \n",
    "    elif a+b==c:\n",
    "        count+=2\n",
    "        \n",
    "    elif a==b+c:\n",
    "        count+=2\n",
    "        \n",
    "    else:\n",
    "        count+=3\n",
    "        \n",
    "    if a+b == b+a == c+a:\n",
    "        count+=1\n",
    "        \n",
    "    else:\n",
    "        count+=3\n",
    "        \n",
    "    return count+1\n",
    "    \n",
    "calculationofcoins(1,1,2)"
   ]
  },
  {
   "cell_type": "code",
   "execution_count": null,
   "metadata": {
    "collapsed": true
   },
   "outputs": [],
   "source": [
    "def digitSumsDifference(n):\n",
    "    result = 0\n",
    "    \n",
    "    while(n):\n",
    "        digit = n % 10\n",
    "        if digit % 2 == 1:\n",
    "            result -= digit\n",
    "        else:\n",
    "            result += digit\n",
    "        \n",
    "        n = math.floor(n / 10)\n",
    "    \n",
    "    return result\n"
   ]
  },
  {
   "cell_type": "code",
   "execution_count": 4,
   "metadata": {},
   "outputs": [
    {
     "data": {
      "text/plain": [
       "[6, 12, 18, 24, 30, 36, 42, 48, 54, 60]"
      ]
     },
     "execution_count": 4,
     "metadata": {},
     "output_type": "execute_result"
    }
   ],
   "source": [
    "def table(n):\n",
    "    return [n*i for i in range(1,11)]\n",
    "\n",
    "    \n",
    "table(6)"
   ]
  },
  {
   "cell_type": "code",
   "execution_count": 6,
   "metadata": {},
   "outputs": [
    {
     "ename": "TypeError",
     "evalue": "int() can't convert non-string with explicit base",
     "output_type": "error",
     "traceback": [
      "\u001b[1;31m---------------------------------------------------------------------------\u001b[0m",
      "\u001b[1;31mTypeError\u001b[0m                                 Traceback (most recent call last)",
      "\u001b[1;32m<ipython-input-6-17dae19af7a6>\u001b[0m in \u001b[0;36m<module>\u001b[1;34m()\u001b[0m\n\u001b[0;32m      2\u001b[0m     \u001b[1;32mreturn\u001b[0m \u001b[1;34m'{0:x}'\u001b[0m\u001b[1;33m.\u001b[0m\u001b[0mformat\u001b[0m\u001b[1;33m(\u001b[0m\u001b[0mint\u001b[0m\u001b[1;33m(\u001b[0m\u001b[0mn\u001b[0m\u001b[1;33m,\u001b[0m\u001b[0mx\u001b[0m\u001b[1;33m)\u001b[0m\u001b[1;33m)\u001b[0m\u001b[1;33m\u001b[0m\u001b[0m\n\u001b[0;32m      3\u001b[0m \u001b[1;33m\u001b[0m\u001b[0m\n\u001b[1;32m----> 4\u001b[1;33m \u001b[0mbaseConversion\u001b[0m\u001b[1;33m(\u001b[0m\u001b[1;36m10\u001b[0m\u001b[1;33m,\u001b[0m\u001b[1;36m2\u001b[0m\u001b[1;33m)\u001b[0m\u001b[1;33m\u001b[0m\u001b[0m\n\u001b[0m",
      "\u001b[1;32m<ipython-input-6-17dae19af7a6>\u001b[0m in \u001b[0;36mbaseConversion\u001b[1;34m(n, x)\u001b[0m\n\u001b[0;32m      1\u001b[0m \u001b[1;32mdef\u001b[0m \u001b[0mbaseConversion\u001b[0m\u001b[1;33m(\u001b[0m\u001b[0mn\u001b[0m\u001b[1;33m,\u001b[0m \u001b[0mx\u001b[0m\u001b[1;33m)\u001b[0m\u001b[1;33m:\u001b[0m\u001b[1;33m\u001b[0m\u001b[0m\n\u001b[1;32m----> 2\u001b[1;33m     \u001b[1;32mreturn\u001b[0m \u001b[1;34m'{0:x}'\u001b[0m\u001b[1;33m.\u001b[0m\u001b[0mformat\u001b[0m\u001b[1;33m(\u001b[0m\u001b[0mint\u001b[0m\u001b[1;33m(\u001b[0m\u001b[0mn\u001b[0m\u001b[1;33m,\u001b[0m\u001b[0mx\u001b[0m\u001b[1;33m)\u001b[0m\u001b[1;33m)\u001b[0m\u001b[1;33m\u001b[0m\u001b[0m\n\u001b[0m\u001b[0;32m      3\u001b[0m \u001b[1;33m\u001b[0m\u001b[0m\n\u001b[0;32m      4\u001b[0m \u001b[0mbaseConversion\u001b[0m\u001b[1;33m(\u001b[0m\u001b[1;36m10\u001b[0m\u001b[1;33m,\u001b[0m\u001b[1;36m2\u001b[0m\u001b[1;33m)\u001b[0m\u001b[1;33m\u001b[0m\u001b[0m\n",
      "\u001b[1;31mTypeError\u001b[0m: int() can't convert non-string with explicit base"
     ]
    }
   ],
   "source": [
    "def baseConversion(n, x):\n",
    "    return '{0:x}'.format(int(n,x))\n",
    "\n",
    "baseConversion(10,2)"
   ]
  },
  {
   "cell_type": "code",
   "execution_count": 4,
   "metadata": {
    "collapsed": true
   },
   "outputs": [],
   "source": [
    "def listBeautifier(a):\n",
    "    res = a[:]\n",
    "    while res and res[0] != res[-1]:\n",
    "        a,*res,b = res\n",
    "    return res"
   ]
  },
  {
   "cell_type": "code",
   "execution_count": 5,
   "metadata": {},
   "outputs": [
    {
     "name": "stdout",
     "output_type": "stream",
     "text": [
      "helo  work\n"
     ]
    }
   ],
   "source": [
    "sentence= \"   helo  work\"\n",
    "print(sentence.strip())"
   ]
  },
  {
   "cell_type": "code",
   "execution_count": 2,
   "metadata": {},
   "outputs": [
    {
     "ename": "TypeError",
     "evalue": "int() can't convert non-string with explicit base",
     "output_type": "error",
     "traceback": [
      "\u001b[1;31m---------------------------------------------------------------------------\u001b[0m",
      "\u001b[1;31mTypeError\u001b[0m                                 Traceback (most recent call last)",
      "\u001b[1;32m<ipython-input-2-d456efbb2fbf>\u001b[0m in \u001b[0;36m<module>\u001b[1;34m()\u001b[0m\n\u001b[0;32m      4\u001b[0m \u001b[1;33m\u001b[0m\u001b[0m\n\u001b[0;32m      5\u001b[0m \u001b[1;33m\u001b[0m\u001b[0m\n\u001b[1;32m----> 6\u001b[1;33m \u001b[0mfromDecimal\u001b[0m\u001b[1;33m(\u001b[0m\u001b[1;36m2\u001b[0m\u001b[1;33m,\u001b[0m\u001b[1;36m2\u001b[0m\u001b[1;33m)\u001b[0m\u001b[1;33m\u001b[0m\u001b[0m\n\u001b[0m",
      "\u001b[1;32m<ipython-input-2-d456efbb2fbf>\u001b[0m in \u001b[0;36mfromDecimal\u001b[1;34m(base, n)\u001b[0m\n\u001b[0;32m      1\u001b[0m \u001b[1;32mdef\u001b[0m \u001b[0mfromDecimal\u001b[0m\u001b[1;33m(\u001b[0m\u001b[0mbase\u001b[0m\u001b[1;33m,\u001b[0m \u001b[0mn\u001b[0m\u001b[1;33m)\u001b[0m\u001b[1;33m:\u001b[0m\u001b[1;33m\u001b[0m\u001b[0m\n\u001b[1;32m----> 2\u001b[1;33m     \u001b[0ms\u001b[0m \u001b[1;33m=\u001b[0m \u001b[0mint\u001b[0m\u001b[1;33m(\u001b[0m\u001b[0mn\u001b[0m\u001b[1;33m,\u001b[0m\u001b[1;36m10\u001b[0m\u001b[1;33m)\u001b[0m\u001b[1;33m\u001b[0m\u001b[0m\n\u001b[0m\u001b[0;32m      3\u001b[0m     \u001b[1;32mreturn\u001b[0m \u001b[0ms\u001b[0m\u001b[1;33m\u001b[0m\u001b[0m\n\u001b[0;32m      4\u001b[0m \u001b[1;33m\u001b[0m\u001b[0m\n\u001b[0;32m      5\u001b[0m \u001b[1;33m\u001b[0m\u001b[0m\n",
      "\u001b[1;31mTypeError\u001b[0m: int() can't convert non-string with explicit base"
     ]
    }
   ],
   "source": [
    "def fromDecimal(base, n):\n",
    "    s = int(n,10)\n",
    "    return s\n",
    "\n",
    "\n",
    "fromDecimal(2,2)"
   ]
  },
  {
   "cell_type": "code",
   "execution_count": 15,
   "metadata": {},
   "outputs": [
    {
     "name": "stdout",
     "output_type": "stream",
     "text": [
      "['172', '16', '254', '1']\n"
     ]
    }
   ],
   "source": [
    "inputString = \"172.16.254.1\"\n",
    "l = inputString.split(\".\")\n",
    "print(l)"
   ]
  },
  {
   "cell_type": "code",
   "execution_count": 21,
   "metadata": {},
   "outputs": [
    {
     "name": "stdout",
     "output_type": "stream",
     "text": [
      "[172, 316, 254, 1]\n"
     ]
    },
    {
     "data": {
      "text/plain": [
       "False"
      ]
     },
     "execution_count": 21,
     "metadata": {},
     "output_type": "execute_result"
    }
   ],
   "source": [
    "def isIPv4Address(inputString):\n",
    "    l = inputString.split(\".\")\n",
    "    l =  list(map(int,l))\n",
    "    print(l)\n",
    "    for i in range(0,len(l)):\n",
    "        if l[i] < 255:\n",
    "            valid=1\n",
    "        \n",
    "        else:\n",
    "            return False\n",
    "        \n",
    "    else:\n",
    "        return True\n",
    "inputString=\"172.316.254.1\"        \n",
    "isIPv4Address(inputString)"
   ]
  },
  {
   "cell_type": "code",
   "execution_count": 3,
   "metadata": {},
   "outputs": [
    {
     "data": {
      "text/plain": [
       "6"
      ]
     },
     "execution_count": 3,
     "metadata": {},
     "output_type": "execute_result"
    }
   ],
   "source": [
    "def countLine(points,colors):\n",
    "    results = colors\n",
    "    \n",
    "    for i in range(1,points):\n",
    "        results *= (colors - 1)\n",
    "        \n",
    "    return results\n",
    "\n",
    "countLine(2,3)"
   ]
  },
  {
   "cell_type": "code",
   "execution_count": 4,
   "metadata": {
    "collapsed": true
   },
   "outputs": [],
   "source": [
    "def rounders(value):\n",
    "  l=[]\n",
    "  l1=[]\n",
    "  l=list(str(value))\n",
    "  for i in range(-1,-len(l),-1):\n",
    "    print(l[i])\n",
    "      if int(l[i])<5:\n",
    "           l[i]=int(0)\n",
    "           \n",
    "         \n",
    "       elif(int(l[i])>=5):\n",
    "         l[i-1]=int(l[i-1])+1\n",
    "         l[i]=int(0)\n",
    "  b = int(''.join(map(str, l)))\n",
    "  \n",
    "  return b"
   ]
  },
  {
   "cell_type": "code",
   "execution_count": null,
   "metadata": {
    "collapsed": true
   },
   "outputs": [],
   "source": [
    "def improperFractionToMixed(a):\n",
    "    l = []\n",
    "    l.append(a[0] // a[1])\n",
    "    l.append(a[0] % a[1])\n",
    "    \n",
    "    l.append(a[1])\n",
    "    \n",
    "    return l\n"
   ]
  },
  {
   "cell_type": "code",
   "execution_count": 1,
   "metadata": {
    "collapsed": true
   },
   "outputs": [],
   "source": [
    "def seatsInTheater(nCols, nRows, col, row):\n",
    "    return (nCols-col+1)*(nRows-row)"
   ]
  },
  {
   "cell_type": "code",
   "execution_count": 2,
   "metadata": {
    "collapsed": true
   },
   "outputs": [],
   "source": [
    "def pagesNumbering(n):\n",
    "    s = 0\n",
    "    d = 1\n",
    "    p = 1\n",
    "    while d*10 <= n:\n",
    "        s += 9*d*p\n",
    "        d *= 10\n",
    "        p += 1\n",
    "    if d <= n:\n",
    "        s += (n-d+1)*p\n",
    "    return s"
   ]
  },
  {
   "cell_type": "code",
   "execution_count": 6,
   "metadata": {},
   "outputs": [
    {
     "data": {
      "text/plain": [
       "'aba'"
      ]
     },
     "execution_count": 6,
     "metadata": {},
     "output_type": "execute_result"
    }
   ],
   "source": [
    "def caseUnification(inputString):\n",
    "    u = 0\n",
    "    l = 0\n",
    "    \n",
    "    for i in range(len(inputString)):\n",
    "        if inputString[i].islower():\n",
    "            l += 1 \n",
    "            \n",
    "        else:\n",
    "            u += 1\n",
    "            \n",
    "    if l > u :\n",
    "        return inputString.lower()\n",
    "        \n",
    "    else:\n",
    "        return inputString.upper()\n",
    "        \n",
    "inputString = \"Aba\"\n",
    "caseUnification(inputString)\n",
    "    "
   ]
  },
  {
   "cell_type": "code",
   "execution_count": 7,
   "metadata": {
    "collapsed": true
   },
   "outputs": [],
   "source": [
    "def whoseMove(lastPlayer, win):\n",
    "    if lastPlayer == \"black\" and not win:\n",
    "        return \"white\"\n",
    "    if lastPlayer == \"white\" and not win:\n",
    "        return \"black\"\n",
    "    if win:\n",
    "        return lastPlayer"
   ]
  },
  {
   "cell_type": "code",
   "execution_count": 10,
   "metadata": {},
   "outputs": [
    {
     "data": {
      "text/plain": [
       "'ab'"
      ]
     },
     "execution_count": 10,
     "metadata": {},
     "output_type": "execute_result"
    }
   ],
   "source": [
    "def strangeCode(s,e):\n",
    "    first = True\n",
    "    res = \"\"\n",
    "    \n",
    "    while s < e-1:\n",
    "        s += 1\n",
    "        e -= 1\n",
    "        \n",
    "        if first:\n",
    "            first =False\n",
    "            res += \"a\"\n",
    "            \n",
    "        else:\n",
    "            if res[-1] == \"a\":\n",
    "                res += \"b\"\n",
    "                \n",
    "            else:\n",
    "                res += \"a\"\n",
    "                \n",
    "    return res\n",
    "\n",
    "strangeCode(4,8)"
   ]
  },
  {
   "cell_type": "code",
   "execution_count": 11,
   "metadata": {
    "collapsed": true
   },
   "outputs": [],
   "source": [
    "def dfsComponentSize(matrix, vertex):\n",
    "    return matrix[vertex].count(True) + 1\n"
   ]
  },
  {
   "cell_type": "code",
   "execution_count": 12,
   "metadata": {
    "collapsed": true
   },
   "outputs": [],
   "source": [
    "def largestDistance(a):\n",
    "    \n",
    "    mx = [a[0], a[1]]\n",
    "    mn = [a[0], a[1]]\n",
    "    for i in range(len(a)):\n",
    "        \n",
    "        k =  i%2\n",
    "        if a[i] > mx[k]:\n",
    "            \n",
    "            mx[k] = a[i]\n",
    "        elif a[i] < mn[k]:\n",
    "            \n",
    "            mn[k] = a[i]\n",
    "    return max(mx[0] - mn[0], mx[1] - mn[1])"
   ]
  },
  {
   "cell_type": "code",
   "execution_count": 13,
   "metadata": {
    "collapsed": true
   },
   "outputs": [],
   "source": [
    "def createAnagram(s, t):\n",
    "    diff = 0\n",
    "    for i in string.uppercase:\n",
    "        x = s.count(i)\n",
    "        y = t.count(i)\n",
    "        diff += max(x, y) - min(x, y)\n",
    "    return diff / 2"
   ]
  },
  {
   "cell_type": "code",
   "execution_count": 8,
   "metadata": {},
   "outputs": [
    {
     "data": {
      "text/plain": [
       "True"
      ]
     },
     "execution_count": 8,
     "metadata": {},
     "output_type": "execute_result"
    }
   ],
   "source": [
    "def triangle(value):\n",
    "    \n",
    "    count = 0\n",
    "    for i in range(1,value+1):\n",
    "        count+=i\n",
    "        \n",
    "        if count == value:\n",
    "            return True\n",
    "        \n",
    "        elif count > value:\n",
    "            return False\n",
    "        \n",
    "triangle(10)"
   ]
  },
  {
   "cell_type": "code",
   "execution_count": 8,
   "metadata": {},
   "outputs": [
    {
     "name": "stdout",
     "output_type": "stream",
     "text": [
      "[[1 2]\n",
      " [3 4]]\n",
      "[[1 2]\n",
      " [3 4]]\n"
     ]
    }
   ],
   "source": [
    "import numpy as np\n",
    "\n",
    "a = np.matrix([[1, 2], [3, 4]])\n",
    "b = np.matrix('1 2; 3 4')    \n",
    "print(a)\n",
    "print(b)\n"
   ]
  },
  {
   "cell_type": "code",
   "execution_count": 9,
   "metadata": {
    "collapsed": true
   },
   "outputs": [],
   "source": [
    "def differentValuesInMultiplicationTable2(n, m):\n",
    "    found = [False] * (n * m + 1)\n",
    "    result = 0\n",
    "\n",
    "    for i in range(1, n + 1):\n",
    "        for j in range(1, m + 1):\n",
    "            found[i * j] = True\n",
    "\n",
    "    for value in range(1, n * n + 1):\n",
    "        if found[value]:\n",
    "            result += 1\n",
    "\n",
    "    return result"
   ]
  },
  {
   "cell_type": "code",
   "execution_count": 10,
   "metadata": {
    "collapsed": true
   },
   "outputs": [],
   "source": [
    "def power(base, exponent):\n",
    "    result = 1\n",
    "    for count in range(exponent):\n",
    "        result *=  base \n",
    "    return result"
   ]
  },
  {
   "cell_type": "code",
   "execution_count": 11,
   "metadata": {
    "collapsed": true
   },
   "outputs": [],
   "source": [
    "def checkPalindrome(inputString):\n",
    "    return inputString[::-1] == inputString"
   ]
  },
  {
   "cell_type": "code",
   "execution_count": 2,
   "metadata": {},
   "outputs": [
    {
     "data": {
      "text/plain": [
       "4"
      ]
     },
     "execution_count": 2,
     "metadata": {},
     "output_type": "execute_result"
    }
   ],
   "source": [
    "def inverse(inputarray):\n",
    "    \n",
    "    count = 0\n",
    "    \n",
    "    for i in range(len(inputarray)-1):\n",
    "        for j in range(len(inputarray)):\n",
    "            \n",
    "            if i < j:\n",
    "                \n",
    "                if inputarray[i] > inputarray[j]:\n",
    "                    count+=1\n",
    "                \n",
    "    return count\n",
    "        \n",
    "inputa = [1,3,2,0]\n",
    "inverse(inputa)"
   ]
  },
  {
   "cell_type": "code",
   "execution_count": 1,
   "metadata": {},
   "outputs": [
    {
     "data": {
      "text/plain": [
       "'hELLO'"
      ]
     },
     "execution_count": 1,
     "metadata": {},
     "output_type": "execute_result"
    }
   ],
   "source": [
    "def swapCase(text):\n",
    "    l = list(text)\n",
    "    \n",
    "    for i in range(len(l)):\n",
    "        \n",
    "        if l[i].islower():\n",
    "            l[i]=l[i].upper()\n",
    "            \n",
    "        else:\n",
    "            l[i]=l[i].lower()\n",
    "            \n",
    "    return ''.join(l)\n",
    "    \n",
    "swapCase(\"Hello\")"
   ]
  },
  {
   "cell_type": "code",
   "execution_count": 2,
   "metadata": {},
   "outputs": [
    {
     "data": {
      "text/plain": [
       "'hELLO'"
      ]
     },
     "execution_count": 2,
     "metadata": {},
     "output_type": "execute_result"
    }
   ],
   "source": [
    "def swapCase(text):\n",
    "    newText=\"\"\n",
    "    \n",
    "    for i in text:\n",
    "        if i.isupper():\n",
    "            newText+=i.lower()\n",
    "        else:\n",
    "            newText+=i.upper()\n",
    "    return newText\n",
    "\n",
    "swapCase(\"Hello\")"
   ]
  },
  {
   "cell_type": "code",
   "execution_count": 4,
   "metadata": {},
   "outputs": [
    {
     "data": {
      "text/plain": [
       "'hELLO'"
      ]
     },
     "execution_count": 4,
     "metadata": {},
     "output_type": "execute_result"
    }
   ],
   "source": [
    "def swapCase(text):\n",
    "    return \"\".join(x.upper() if x.islower() else x.lower() for x in text)\n",
    "swapCase(\"Hello\")"
   ]
  },
  {
   "cell_type": "code",
   "execution_count": 5,
   "metadata": {
    "collapsed": true
   },
   "outputs": [],
   "source": [
    "def magicalWell(a, b, n):\n",
    "        \n",
    "        result = 0\n",
    "        for i in range(n):\n",
    "                \n",
    "                result += a*b\n",
    "        \n",
    "                a+=1\n",
    "                b+=1\n",
    "                \n",
    "        return result        \n",
    "    "
   ]
  },
  {
   "cell_type": "code",
   "execution_count": null,
   "metadata": {
    "collapsed": true
   },
   "outputs": [],
   "source": [
    "def roundness(n):\n",
    "      \n",
    "        if n % 10 == 0:\n",
    "            pass\n",
    "        elif n % 10 != 0:\n",
    "            \n",
    "        n /= 10\n",
    "        \n",
    "roundness(11000)"
   ]
  },
  {
   "cell_type": "code",
   "execution_count": null,
   "metadata": {
    "collapsed": true
   },
   "outputs": [],
   "source": [
    "def deleteWhitespaces(inputStr):\n",
    "    return \"\".join(inputStr.split())"
   ]
  },
  {
   "cell_type": "code",
   "execution_count": null,
   "metadata": {
    "collapsed": true
   },
   "outputs": [],
   "source": [
    "def deleteWhitespaces(inputStr):\n",
    "    return inputStr.replace(\" \",\"\")"
   ]
  },
  {
   "cell_type": "code",
   "execution_count": 5,
   "metadata": {},
   "outputs": [
    {
     "name": "stdout",
     "output_type": "stream",
     "text": [
      "10\n"
     ]
    }
   ],
   "source": [
    "a = 10\n",
    "var = str(a)\n",
    "type(var)\n",
    "print(var)"
   ]
  },
  {
   "cell_type": "code",
   "execution_count": 4,
   "metadata": {},
   "outputs": [
    {
     "name": "stdout",
     "output_type": "stream",
     "text": [
      "[(2, 10), (6, 6), (10, 2)]\n"
     ]
    }
   ],
   "source": [
    "a = [1,2,5,6,10,45]\n",
    "\n",
    "k = 12\n",
    "\n",
    "l = [(i , j) for i in a for j in a[1:] if i+j==k]\n",
    "\n",
    "print(l)"
   ]
  },
  {
   "cell_type": "code",
   "execution_count": 1,
   "metadata": {},
   "outputs": [
    {
     "data": {
      "text/plain": [
       "(2, 10)"
      ]
     },
     "execution_count": 1,
     "metadata": {},
     "output_type": "execute_result"
    }
   ],
   "source": [
    "def sumPair(a,k):\n",
    "    result = []\n",
    "    l = 0\n",
    "    r = len(a)-1\n",
    "     \n",
    "    # traverse the array for the two elements\n",
    "    while l<r:\n",
    "        if (a[l] + a[r] == k):\n",
    "            return a[l],a[r]\n",
    "        elif (a[l] + a[r] < k):\n",
    "            l += 1\n",
    "        else:\n",
    "            r -= 1\n",
    "    return 0\n",
    "    \n",
    "\n",
    "a = [1,2,5,6,10,45]\n",
    "\n",
    "k = 12\n",
    "\n",
    "sumPair(a,k)"
   ]
  },
  {
   "cell_type": "code",
   "execution_count": 29,
   "metadata": {},
   "outputs": [
    {
     "data": {
      "text/plain": [
       "' You Can Add Here '"
      ]
     },
     "execution_count": 29,
     "metadata": {},
     "output_type": "execute_result"
    }
   ],
   "source": [
    "def addHelp():\n",
    "    #comment\n",
    " ''' You Can Add Here '''\n",
    "\n",
    "addHelp()\n",
    "addHelp.__doc__\n"
   ]
  },
  {
   "cell_type": "code",
   "execution_count": 4,
   "metadata": {},
   "outputs": [
    {
     "name": "stdout",
     "output_type": "stream",
     "text": [
      "0.5\n"
     ]
    }
   ],
   "source": [
    "x = 1\n",
    "\n",
    "x = x/2\n",
    "\n",
    "print(x)"
   ]
  },
  {
   "cell_type": "code",
   "execution_count": 5,
   "metadata": {},
   "outputs": [
    {
     "name": "stdout",
     "output_type": "stream",
     "text": [
      "5\n"
     ]
    }
   ],
   "source": [
    "a=10\n",
    "b = 5\n",
    "\n",
    "a,b=b,a\n",
    "\n",
    "print(a)"
   ]
  },
  {
   "cell_type": "code",
   "execution_count": 21,
   "metadata": {},
   "outputs": [
    {
     "name": "stdout",
     "output_type": "stream",
     "text": [
      "Hello 'World'\n",
      "Hello \"World\"\n",
      "Hello World\n",
      "85\n",
      "Hello Munaf Hajir\n"
     ]
    }
   ],
   "source": []
  },
  {
   "cell_type": "code",
   "execution_count": 79,
   "metadata": {},
   "outputs": [
    {
     "name": "stdout",
     "output_type": "stream",
     "text": [
      "10\n"
     ]
    }
   ],
   "source": [
    "print(MyFunc(10,20))\n",
    "def MyFunc(b,a=5):\n",
    "    #print(\"A=\",a,\"B=\",b)\n",
    "    n=10\n",
    "    return n\n",
    "\n",
    "#MyFunc(10)\n"
   ]
  },
  {
   "cell_type": "code",
   "execution_count": 13,
   "metadata": {},
   "outputs": [
    {
     "data": {
      "text/plain": [
       "True"
      ]
     },
     "execution_count": 13,
     "metadata": {},
     "output_type": "execute_result"
    }
   ],
   "source": [
    "def firstPro(a,b):\n",
    "    return a==b or a!=0\n",
    "    \n",
    "firstPro(0,0)"
   ]
  },
  {
   "cell_type": "code",
   "execution_count": 14,
   "metadata": {},
   "outputs": [
    {
     "name": "stdout",
     "output_type": "stream",
     "text": [
      "This is Mund\n"
     ]
    }
   ],
   "source": [
    "nam = \"Mund\"\n",
    "\n",
    "print(\"This is \"+nam)"
   ]
  },
  {
   "cell_type": "code",
   "execution_count": 25,
   "metadata": {},
   "outputs": [
    {
     "name": "stdout",
     "output_type": "stream",
     "text": [
      "1 Munaf HAJIR\n"
     ]
    }
   ],
   "source": [
    "m = 1\n",
    "print(\"{} {name} {surname}\".format(m,name=\"Munaf\",surname=\"HAJIR\"))"
   ]
  },
  {
   "cell_type": "code",
   "execution_count": 27,
   "metadata": {},
   "outputs": [
    {
     "ename": "SyntaxError",
     "evalue": "positional argument follows keyword argument (<ipython-input-27-0a93d6160141>, line 2)",
     "output_type": "error",
     "traceback": [
      "\u001b[1;36m  File \u001b[1;32m\"<ipython-input-27-0a93d6160141>\"\u001b[1;36m, line \u001b[1;32m2\u001b[0m\n\u001b[1;33m    print(\"{name} {surname} {2}\".format(name = \"Munaf\" ,surname = \"Hajir\" ,m))\u001b[0m\n\u001b[1;37m                                                                          ^\u001b[0m\n\u001b[1;31mSyntaxError\u001b[0m\u001b[1;31m:\u001b[0m positional argument follows keyword argument\n"
     ]
    }
   ],
   "source": [
    "m = 1\n",
    "print(\"{name} {surname} {2}\".format(name = \"Munaf\" ,surname = \"Hajir\" ,m))"
   ]
  },
  {
   "cell_type": "code",
   "execution_count": 10,
   "metadata": {},
   "outputs": [
    {
     "name": "stdout",
     "output_type": "stream",
     "text": [
      "[4, 1, 1, 2]\n"
     ]
    }
   ],
   "source": [
    "def azam(a,va):\n",
    "    res = 0\n",
    "    \n",
    "    for i in range(len(a)):\n",
    "        if va == a[i]:\n",
    "            res += 1\n",
    "    return res\n",
    "\n",
    "a =[1, 1, 1, 1, 2, 4, 5, 5]\n",
    "r = []\n",
    "va = 0\n",
    "for j in range(len(a)):\n",
    "    if va != a[j]:\n",
    "        va = a[j]\n",
    "        re = azam(a,va)\n",
    "        r.append(re)\n",
    "        \n",
    "print(r)\n",
    "    \n"
   ]
  },
  {
   "cell_type": "code",
   "execution_count": 11,
   "metadata": {},
   "outputs": [
    {
     "name": "stdout",
     "output_type": "stream",
     "text": [
      "[2, 1, 2, 1]\n"
     ]
    }
   ],
   "source": [
    "def azam(a,va):\n",
    "    res = 0\n",
    "    \n",
    "    for i in range(len(a)):\n",
    "        if va == a[i]:\n",
    "            res += 1\n",
    "    return res\n",
    "\n",
    "a =[1,2,1,4,5,4]\n",
    "a.sort()\n",
    "r = []\n",
    "va = 0\n",
    "for j in range(len(a)):\n",
    "    if va != a[j]:\n",
    "        va = a[j]\n",
    "        re = azam(a,va)\n",
    "        r.append(re)\n",
    "        \n",
    "print(r)"
   ]
  },
  {
   "cell_type": "code",
   "execution_count": 19,
   "metadata": {},
   "outputs": [
    {
     "data": {
      "image/png": "[encoded data removed]",
      "text/plain": [
       "<matplotlib.figure.Figure at 0x7e4c9d0>"
      ]
     },
     "metadata": {},
     "output_type": "display_data"
    }
   ],
   "source": [
    "import matplotlib.pyplot as plt\n",
    "\n",
    "plt.plot([1,2,3,4])\n",
    "plt.ylabel('Some Numbers')\n",
    "plt.show()"
   ]
  },
  {
   "cell_type": "code",
   "execution_count": 20,
   "metadata": {},
   "outputs": [
    {
     "data": {
      "image/png": "[encoded data removed]",
      "text/plain": [
       "<matplotlib.figure.Figure at 0x68caf10>"
      ]
     },
     "metadata": {},
     "output_type": "display_data"
    }
   ],
   "source": [
    "import matplotlib.pyplot as plt\n",
    "plt.plot([1,2,3,4],[1,4,9,16],'ro')\n",
    "plt.axis([0,6,0,20])\n",
    "plt.show()"
   ]
  },
  {
   "cell_type": "code",
   "execution_count": 23,
   "metadata": {},
   "outputs": [
    {
     "data": {
      "image/png": "[encoded data removed]",
      "text/plain": [
       "<matplotlib.figure.Figure at 0x6693350>"
      ]
     },
     "metadata": {},
     "output_type": "display_data"
    }
   ],
   "source": [
    "import matplotlib.pyplot as plt\n",
    "\n",
    "plt.plot([1,2,3,4],[1,4,9,16],'ro')\n",
    "plt.show()"
   ]
  },
  {
   "cell_type": "code",
   "execution_count": 11,
   "metadata": {},
   "outputs": [
    {
     "name": "stdout",
     "output_type": "stream",
     "text": [
      "Value 2 repeat 5 times\n",
      "{1: 4, 2: 5, 4: 2, 5: 1}\n"
     ]
    }
   ],
   "source": [
    "def azam(a,va):\n",
    "    res = 0\n",
    "    \n",
    "    for i in range(len(a)):\n",
    "        if va == a[i]:\n",
    "            res += 1\n",
    "    return res\n",
    "\n",
    "a =[1,1,1,2,1,4,5,4,2,2,2,2]\n",
    "a.sort()\n",
    "r = {}\n",
    "va = 0\n",
    "for j in range(len(a)):\n",
    "    if va != a[j]:\n",
    "        va = a[j]\n",
    "        re = azam(a,va)\n",
    "        r[va]=re\n",
    "        \n",
    "maximum = max(r, key=r.get)\n",
    "\n",
    "print(\"Value {} repeat {} times\".format(maximum, r[maximum]))\n",
    "# # print(r[1])\n",
    "# print(r)\n",
    "# # print(r[maximum])\n",
    "# for k in range(1,len(r)+1):\n",
    "    \n",
    "#     if r[k]==r[maximum]:\n",
    "        \n",
    "#         print(\"Value {} repeat {} times\".format(k, r[maximum]))\n",
    "\n",
    "print(r)\n"
   ]
  },
  {
   "cell_type": "code",
   "execution_count": 9,
   "metadata": {},
   "outputs": [
    {
     "name": "stdout",
     "output_type": "stream",
     "text": [
      "<class 'list'>\n"
     ]
    }
   ],
   "source": [
    "tuple = ( 'abcd', 786 , 2.23, 'john', 70.2 )\n",
    "print(list)"
   ]
  },
  {
   "cell_type": "code",
   "execution_count": 22,
   "metadata": {},
   "outputs": [
    {
     "ename": "TypeError",
     "evalue": "object of type 'type' has no len()",
     "output_type": "error",
     "traceback": [
      "\u001b[1;31m---------------------------------------------------------------------------\u001b[0m",
      "\u001b[1;31mTypeError\u001b[0m                                 Traceback (most recent call last)",
      "\u001b[1;32m<ipython-input-22-756df4848b1f>\u001b[0m in \u001b[0;36m<module>\u001b[1;34m()\u001b[0m\n\u001b[0;32m      2\u001b[0m \u001b[0mdict2\u001b[0m\u001b[1;33m=\u001b[0m\u001b[1;33m{\u001b[0m\u001b[1;34m'iAS'\u001b[0m\u001b[1;33m:\u001b[0m\u001b[1;36m90\u001b[0m \u001b[1;33m,\u001b[0m \u001b[1;34m'Coder'\u001b[0m\u001b[1;33m:\u001b[0m \u001b[1;36m90\u001b[0m\u001b[1;33m}\u001b[0m\u001b[1;33m\u001b[0m\u001b[0m\n\u001b[0;32m      3\u001b[0m \u001b[1;33m\u001b[0m\u001b[0m\n\u001b[1;32m----> 4\u001b[1;33m \u001b[0mlen\u001b[0m\u001b[1;33m(\u001b[0m\u001b[0mdict\u001b[0m\u001b[1;33m)\u001b[0m\u001b[1;33m\u001b[0m\u001b[0m\n\u001b[0m",
      "\u001b[1;31mTypeError\u001b[0m: object of type 'type' has no len()"
     ]
    }
   ],
   "source": [
    "dict1={'Munaf':90 , 'Moin':90}\n",
    "dict2={'iAS':90 , 'Coder': 90}\n",
    "\n",
    "len(dict)"
   ]
  },
  {
   "cell_type": "code",
   "execution_count": 13,
   "metadata": {},
   "outputs": [
    {
     "name": "stdout",
     "output_type": "stream",
     "text": [
      "False\n"
     ]
    }
   ],
   "source": [
    "print(0.1 + 0.2== 0.3)"
   ]
  },
  {
   "cell_type": "code",
   "execution_count": 14,
   "metadata": {},
   "outputs": [
    {
     "name": "stdout",
     "output_type": "stream",
     "text": [
      "5\n"
     ]
    }
   ],
   "source": [
    "print(~~~~~~5)"
   ]
  },
  {
   "cell_type": "code",
   "execution_count": 15,
   "metadata": {},
   "outputs": [
    {
     "name": "stdout",
     "output_type": "stream",
     "text": [
      "munaf\n"
     ]
    }
   ],
   "source": [
    "s=\"Munaf\"\n",
    "print(s.lower())"
   ]
  },
  {
   "cell_type": "code",
   "execution_count": 17,
   "metadata": {},
   "outputs": [
    {
     "name": "stdout",
     "output_type": "stream",
     "text": [
      "('', 'cd', '')\n"
     ]
    }
   ],
   "source": [
    "print('cd'.partition('cd'))"
   ]
  },
  {
   "cell_type": "code",
   "execution_count": 19,
   "metadata": {},
   "outputs": [
    {
     "name": "stdout",
     "output_type": "stream",
     "text": [
      "abcefd\n"
     ]
    }
   ],
   "source": [
    "print('abcefd'.replace('cd', '12'))"
   ]
  },
  {
   "cell_type": "code",
   "execution_count": 20,
   "metadata": {},
   "outputs": [
    {
     "name": "stdout",
     "output_type": "stream",
     "text": [
      "3 44\n"
     ]
    }
   ],
   "source": [
    "def f(value, values):\n",
    "    v = 1\n",
    "    values[0] = 44\n",
    "t = 3\n",
    "v = [1, 2, 3]\n",
    "f(t, v)\n",
    "print(t, v[0])"
   ]
  },
  {
   "cell_type": "code",
   "execution_count": 21,
   "metadata": {},
   "outputs": [
    {
     "name": "stdout",
     "output_type": "stream",
     "text": [
      "(786, 2.23)\n"
     ]
    }
   ],
   "source": [
    "print(tuple[1:3] if tuple == ( 'abcd', 786 , 2.23, 'john', 70.2 ) else tuple())"
   ]
  },
  {
   "cell_type": "code",
   "execution_count": 38,
   "metadata": {},
   "outputs": [
    {
     "name": "stdout",
     "output_type": "stream",
     "text": [
      "      3.15\n"
     ]
    }
   ],
   "source": [
    "print(\"{0:10.2f}\".format(3.1456))"
   ]
  },
  {
   "cell_type": "code",
   "execution_count": 39,
   "metadata": {},
   "outputs": [
    {
     "name": "stdout",
     "output_type": "stream",
     "text": [
      "3.653\n"
     ]
    }
   ],
   "source": [
    "print(\"{number:.{precision}f}\".format(number = 3.6532541,precision = 3))"
   ]
  },
  {
   "cell_type": "code",
   "execution_count": 43,
   "metadata": {},
   "outputs": [
    {
     "name": "stdout",
     "output_type": "stream",
     "text": [
      "   3.14   \n"
     ]
    }
   ],
   "source": [
    "t=3.1415\n",
    "precision = 2\n",
    "width = 10 \n",
    "print(str(\"%.{}f\".format(precision) % t).center(width))"
   ]
  },
  {
   "cell_type": "code",
   "execution_count": 3,
   "metadata": {},
   "outputs": [
    {
     "name": "stdout",
     "output_type": "stream",
     "text": [
      "copper\n",
      "Conf:[Ar] 3d**10 4s**1\n",
      "n= 3\n",
      "n= 3\n",
      "n= 3\n",
      "n= 3\n",
      "n= 3\n",
      "n= 3\n",
      "n= 3\n",
      "n= 3\n",
      "n= 3\n",
      "n= 3\n",
      "l=2\n",
      "l=2\n",
      "l=2\n",
      "l=2\n",
      "l=2\n",
      "l=2\n",
      "l=2\n",
      "l=2\n",
      "l=2\n",
      "l=2\n",
      "n= 4\n",
      "l=0\n"
     ]
    }
   ],
   "source": [
    "\n",
    "if input() == \"copper\":\n",
    "    con = \"3d.10 4s.1\"\n",
    "    print(\"Conf:[Ar] 3d**10 4s**1\")\n",
    "    splitval = con.split(\" \")\n",
    "    \n",
    "    for i in splitval:\n",
    "        tex = i.split(\".\")\n",
    "        p =tex[0]\n",
    "        \n",
    "        for j in range(int(tex[1])):\n",
    "            print(\"n=\",p[0])\n",
    "                \n",
    "        for k in range(int(tex[1])):\n",
    "            if p[1] == \"s\":\n",
    "                \n",
    "                print(\"l=0\")\n",
    "                \n",
    "            elif p[1] == \"d\":\n",
    "                print(\"l=2\")\n",
    "            \n",
    "                \n",
    "# print(tex)\n"
   ]
  },
  {
   "cell_type": "code",
   "execution_count": 17,
   "metadata": {},
   "outputs": [
    {
     "name": "stdout",
     "output_type": "stream",
     "text": [
      "ca\n"
     ]
    }
   ],
   "source": [
    "int(\"1302\",5)\n",
    "print(\"{0:x}\".format(202))"
   ]
  },
  {
   "cell_type": "code",
   "execution_count": 12,
   "metadata": {},
   "outputs": [
    {
     "name": "stdout",
     "output_type": "stream",
     "text": [
      "Enter Value: 0110\n",
      "Enter Base: 2\n"
     ]
    },
    {
     "data": {
      "text/plain": [
       "6"
      ]
     },
     "execution_count": 12,
     "metadata": {},
     "output_type": "execute_result"
    }
   ],
   "source": [
    "def anyToDec(v,b):\n",
    "    return int(v,b)\n",
    "\n",
    "value = input(\"Enter Value: \")\n",
    "base = int(input(\"Enter Base: \"))\n",
    "\n",
    "anyToDec(value,base)\n"
   ]
  },
  {
   "cell_type": "code",
   "execution_count": 25,
   "metadata": {},
   "outputs": [
    {
     "name": "stdout",
     "output_type": "stream",
     "text": [
      "202\n",
      "0xca\n"
     ]
    },
    {
     "data": {
      "text/plain": [
       "'ca'"
      ]
     },
     "execution_count": 25,
     "metadata": {},
     "output_type": "execute_result"
    }
   ],
   "source": [
    "n=\"1302\"\n",
    "x=5\n",
    "d = int(n,x)\n",
    "print(d)\n",
    "print(hex(d))\n",
    "hex(d).split('x')[-1]"
   ]
  },
  {
   "cell_type": "code",
   "execution_count": 12,
   "metadata": {},
   "outputs": [
    {
     "name": "stdout",
     "output_type": "stream",
     "text": [
      "12\n"
     ]
    }
   ],
   "source": [
    "c=0\n",
    "n = 3\n",
    "m = 10\n",
    "while c<m:\n",
    "    \n",
    "    for _ in range(n):\n",
    "        c+=1\n",
    "    \n",
    "print(c)    \n",
    "    \n",
    "    "
   ]
  },
  {
   "cell_type": "markdown",
   "metadata": {
    "tags": [
     "Multi",
     "Dict"
    ]
   },
   "source": [
    "Mapping Keys To Multiple Values In Dictionary\n",
    "\n",
    "Using list for to store the values in container"
   ]
  },
  {
   "cell_type": "code",
   "execution_count": null,
   "metadata": {
    "collapsed": true
   },
   "outputs": [],
   "source": [
    "from collections import defaultdict\n",
    "d = defaultdict(list)\n",
    "for i in range(1,11):\n",
    "    if i % 2 == 0:\n",
    "        d['even'].append(i)\n",
    "        \n",
    "    else:\n",
    "        d['odd'].append(i) \n",
    "        \n",
    "print(d)"
   ]
  },
  {
   "cell_type": "markdown",
   "metadata": {},
   "source": [
    "Mapping Keys To Multiple Values In Dictionary\n",
    "\n",
    "Using Set for to store value in non duplicate way"
   ]
  },
  {
   "cell_type": "code",
   "execution_count": 21,
   "metadata": {},
   "outputs": [
    {
     "name": "stdout",
     "output_type": "stream",
     "text": [
      "defaultdict(<class 'set'>, {'odd': {1, 3, 5, 7, 9}, 'even': {2, 4, 6, 8, 10}})\n"
     ]
    }
   ],
   "source": [
    "from collections import defaultdict\n",
    "d = defaultdict(set)\n",
    "for i in range(1,11):\n",
    "    if i % 2 == 0:\n",
    "        d['even'].add(i)\n",
    "        \n",
    "    else:\n",
    "        d['odd'].add(i)\n",
    "        d['odd'].add(i)  #adding duplicate value\n",
    "        \n",
    "print(d)"
   ]
  },
  {
   "cell_type": "markdown",
   "metadata": {},
   "source": [
    "In principle, constructing a multivalued dictionary is simple. However, initialization of the first value can be messy if you try to do it yourself. For example, you might have code that looks like this: "
   ]
  },
  {
   "cell_type": "markdown",
   "metadata": {},
   "source": [
    "d = {} \n",
    "for key, value in pairs:\n",
    "    if key not in d:\n",
    "        d[key] = []    \n",
    "        d[key].append(value) "
   ]
  },
  {
   "cell_type": "markdown",
   "metadata": {},
   "source": [
    "Using a defaultdict simply leads to much cleaner code: \n",
    "d = defaultdict(list) \n",
    "for key, value in pairs:\n",
    "    d[key].append(value"
   ]
  },
  {
   "cell_type": "code",
   "execution_count": 32,
   "metadata": {},
   "outputs": [
    {
     "name": "stdout",
     "output_type": "stream",
     "text": [
      "(55.5, 'Fourbix')\n",
      "(35.4, 'Tesla')\n",
      "[(35.4, 'Tesla'), (40.5, 'Microsoft'), (40.91, 'Apple'), (55.5, 'Fourbix')]\n"
     ]
    }
   ],
   "source": [
    "stock = {\n",
    "    'Apple' : 40.91,\n",
    "    'Microsoft':40.50,\n",
    "    'Tesla':35.40,\n",
    "    'Fourbix':55.50\n",
    "}\n",
    "\n",
    "print(max(zip(stock.values(),stock.keys())))\n",
    "\n",
    "print(min(zip(stock.values(),stock.keys())))\n",
    "\n",
    "print(sorted(zip(stock.values(),stock.keys())))"
   ]
  },
  {
   "cell_type": "code",
   "execution_count": 38,
   "metadata": {},
   "outputs": [
    {
     "name": "stdout",
     "output_type": "stream",
     "text": [
      "{'x', 'y'}\n",
      "{'z'}\n",
      "{('y', 2)}\n"
     ]
    }
   ],
   "source": [
    "\n",
    "a = {   'x' : 1,   'y' : 2,   'z' : 3 }\n",
    "\n",
    "b = {   'w' : 10,   'x' : 11,   'y' : 2 } \n",
    "\n",
    "print(a.keys() & b.keys())\n",
    "\n",
    "print(a.keys() - b.keys())\n",
    "\n",
    "\n",
    "print(a.items() & b.items())"
   ]
  },
  {
   "cell_type": "code",
   "execution_count": 42,
   "metadata": {},
   "outputs": [
    {
     "data": {
      "text/plain": [
       "[1, 5, 2, 9, 10]"
      ]
     },
     "execution_count": 42,
     "metadata": {},
     "output_type": "execute_result"
    }
   ],
   "source": [
    "def dedupe(items):\n",
    "    seen = set()\n",
    "    for item in items:\n",
    "        if item not in seen:\n",
    "            yield item\n",
    "            seen.add(item)\n",
    "            \n",
    "a = [1, 5, 2, 1, 9, 1, 5, 10] \n",
    "    \n",
    "list(dedupe(a))"
   ]
  },
  {
   "cell_type": "code",
   "execution_count": 53,
   "metadata": {},
   "outputs": [
    {
     "name": "stdout",
     "output_type": "stream",
     "text": [
      "START 6\n",
      "STOP 11\n",
      "STEP 2\n",
      "HJR\n"
     ]
    }
   ],
   "source": [
    "record = 'MUNAF HAJIR COFOUNDER'\n",
    "\n",
    "a = slice(6,11,2)\n",
    "print(\"START\",a.start)\n",
    "print(\"STOP\",a.stop)\n",
    "print(\"STEP\",a.step)\n",
    "print(record[a])"
   ]
  },
  {
   "cell_type": "code",
   "execution_count": 3,
   "metadata": {},
   "outputs": [
    {
     "name": "stdout",
     "output_type": "stream",
     "text": [
      "[('eyes', 8)]\n"
     ]
    }
   ],
   "source": [
    "from collections import Counter \n",
    "words = ['look', 'into', 'my', 'eyes', 'look', 'into', 'my', 'eyes',   'the', 'eyes', 'the', 'eyes', 'the', 'eyes', 'not', 'around', 'the',   'eyes', \"don't\", 'look', 'around', 'the', 'eyes', 'look', 'into',   'my', 'eyes', \"you're\", 'under' ]\n",
    "\n",
    "\n",
    "word_counter = Counter(words)\n",
    "top = word_counter.most_common(1) \n",
    "print(top)"
   ]
  },
  {
   "cell_type": "code",
   "execution_count": 5,
   "metadata": {},
   "outputs": [
    {
     "ename": "LookupError",
     "evalue": "\n**********************************************************************\n  Resource 'tokenizers/punkt/english.pickle' not found.  Please\n  use the NLTK Downloader to obtain the resource:  >>>\n  nltk.download()\n  Searched in:\n    - 'C:\\\\Users\\\\hp/nltk_data'\n    - 'C:\\\\nltk_data'\n    - 'D:\\\\nltk_data'\n    - 'E:\\\\nltk_data'\n    - 'c:\\\\users\\\\hp\\\\appdata\\\\local\\\\programs\\\\python\\\\python36-32\\\\nltk_data'\n    - 'c:\\\\users\\\\hp\\\\appdata\\\\local\\\\programs\\\\python\\\\python36-32\\\\lib\\\\nltk_data'\n    - 'C:\\\\Users\\\\hp\\\\AppData\\\\Roaming\\\\nltk_data'\n    - ''\n**********************************************************************",
     "output_type": "error",
     "traceback": [
      "\u001b[1;31m---------------------------------------------------------------------------\u001b[0m",
      "\u001b[1;31mLookupError\u001b[0m                               Traceback (most recent call last)",
      "\u001b[1;32m<ipython-input-5-d4fe35a954ec>\u001b[0m in \u001b[0;36m<module>\u001b[1;34m()\u001b[0m\n\u001b[0;32m      3\u001b[0m \u001b[0mtext\u001b[0m \u001b[1;33m=\u001b[0m \u001b[1;34m\"Hello World Munaf iad. codef moin ak charsi\"\u001b[0m\u001b[1;33m\u001b[0m\u001b[0m\n\u001b[0;32m      4\u001b[0m \u001b[1;33m\u001b[0m\u001b[0m\n\u001b[1;32m----> 5\u001b[1;33m \u001b[0ml\u001b[0m \u001b[1;33m=\u001b[0m \u001b[0msent_tokenize\u001b[0m\u001b[1;33m(\u001b[0m\u001b[0mtext\u001b[0m\u001b[1;33m)\u001b[0m\u001b[1;33m\u001b[0m\u001b[0m\n\u001b[0m\u001b[0;32m      6\u001b[0m \u001b[1;33m\u001b[0m\u001b[0m\n\u001b[0;32m      7\u001b[0m \u001b[0mprint\u001b[0m\u001b[1;33m(\u001b[0m\u001b[0ml\u001b[0m\u001b[1;33m)\u001b[0m\u001b[1;33m\u001b[0m\u001b[0m\n",
      "\u001b[1;32mc:\\users\\hp\\appdata\\local\\programs\\python\\python36-32\\lib\\site-packages\\nltk\\tokenize\\__init__.py\u001b[0m in \u001b[0;36msent_tokenize\u001b[1;34m(text, language)\u001b[0m\n\u001b[0;32m     94\u001b[0m     \u001b[1;33m:\u001b[0m\u001b[0mparam\u001b[0m \u001b[0mlanguage\u001b[0m\u001b[1;33m:\u001b[0m \u001b[0mthe\u001b[0m \u001b[0mmodel\u001b[0m \u001b[0mname\u001b[0m \u001b[1;32min\u001b[0m \u001b[0mthe\u001b[0m \u001b[0mPunkt\u001b[0m \u001b[0mcorpus\u001b[0m\u001b[1;33m\u001b[0m\u001b[0m\n\u001b[0;32m     95\u001b[0m     \"\"\"\n\u001b[1;32m---> 96\u001b[1;33m     \u001b[0mtokenizer\u001b[0m \u001b[1;33m=\u001b[0m \u001b[0mload\u001b[0m\u001b[1;33m(\u001b[0m\u001b[1;34m'tokenizers/punkt/{0}.pickle'\u001b[0m\u001b[1;33m.\u001b[0m\u001b[0mformat\u001b[0m\u001b[1;33m(\u001b[0m\u001b[0mlanguage\u001b[0m\u001b[1;33m)\u001b[0m\u001b[1;33m)\u001b[0m\u001b[1;33m\u001b[0m\u001b[0m\n\u001b[0m\u001b[0;32m     97\u001b[0m     \u001b[1;32mreturn\u001b[0m \u001b[0mtokenizer\u001b[0m\u001b[1;33m.\u001b[0m\u001b[0mtokenize\u001b[0m\u001b[1;33m(\u001b[0m\u001b[0mtext\u001b[0m\u001b[1;33m)\u001b[0m\u001b[1;33m\u001b[0m\u001b[0m\n\u001b[0;32m     98\u001b[0m \u001b[1;33m\u001b[0m\u001b[0m\n",
      "\u001b[1;32mc:\\users\\hp\\appdata\\local\\programs\\python\\python36-32\\lib\\site-packages\\nltk\\data.py\u001b[0m in \u001b[0;36mload\u001b[1;34m(resource_url, format, cache, verbose, logic_parser, fstruct_reader, encoding)\u001b[0m\n\u001b[0;32m    812\u001b[0m \u001b[1;33m\u001b[0m\u001b[0m\n\u001b[0;32m    813\u001b[0m     \u001b[1;31m# Load the resource.\u001b[0m\u001b[1;33m\u001b[0m\u001b[1;33m\u001b[0m\u001b[0m\n\u001b[1;32m--> 814\u001b[1;33m     \u001b[0mopened_resource\u001b[0m \u001b[1;33m=\u001b[0m \u001b[0m_open\u001b[0m\u001b[1;33m(\u001b[0m\u001b[0mresource_url\u001b[0m\u001b[1;33m)\u001b[0m\u001b[1;33m\u001b[0m\u001b[0m\n\u001b[0m\u001b[0;32m    815\u001b[0m \u001b[1;33m\u001b[0m\u001b[0m\n\u001b[0;32m    816\u001b[0m     \u001b[1;32mif\u001b[0m \u001b[0mformat\u001b[0m \u001b[1;33m==\u001b[0m \u001b[1;34m'raw'\u001b[0m\u001b[1;33m:\u001b[0m\u001b[1;33m\u001b[0m\u001b[0m\n",
      "\u001b[1;32mc:\\users\\hp\\appdata\\local\\programs\\python\\python36-32\\lib\\site-packages\\nltk\\data.py\u001b[0m in \u001b[0;36m_open\u001b[1;34m(resource_url)\u001b[0m\n\u001b[0;32m    930\u001b[0m \u001b[1;33m\u001b[0m\u001b[0m\n\u001b[0;32m    931\u001b[0m     \u001b[1;32mif\u001b[0m \u001b[0mprotocol\u001b[0m \u001b[1;32mis\u001b[0m \u001b[1;32mNone\u001b[0m \u001b[1;32mor\u001b[0m \u001b[0mprotocol\u001b[0m\u001b[1;33m.\u001b[0m\u001b[0mlower\u001b[0m\u001b[1;33m(\u001b[0m\u001b[1;33m)\u001b[0m \u001b[1;33m==\u001b[0m \u001b[1;34m'nltk'\u001b[0m\u001b[1;33m:\u001b[0m\u001b[1;33m\u001b[0m\u001b[0m\n\u001b[1;32m--> 932\u001b[1;33m         \u001b[1;32mreturn\u001b[0m \u001b[0mfind\u001b[0m\u001b[1;33m(\u001b[0m\u001b[0mpath_\u001b[0m\u001b[1;33m,\u001b[0m \u001b[0mpath\u001b[0m \u001b[1;33m+\u001b[0m \u001b[1;33m[\u001b[0m\u001b[1;34m''\u001b[0m\u001b[1;33m]\u001b[0m\u001b[1;33m)\u001b[0m\u001b[1;33m.\u001b[0m\u001b[0mopen\u001b[0m\u001b[1;33m(\u001b[0m\u001b[1;33m)\u001b[0m\u001b[1;33m\u001b[0m\u001b[0m\n\u001b[0m\u001b[0;32m    933\u001b[0m     \u001b[1;32melif\u001b[0m \u001b[0mprotocol\u001b[0m\u001b[1;33m.\u001b[0m\u001b[0mlower\u001b[0m\u001b[1;33m(\u001b[0m\u001b[1;33m)\u001b[0m \u001b[1;33m==\u001b[0m \u001b[1;34m'file'\u001b[0m\u001b[1;33m:\u001b[0m\u001b[1;33m\u001b[0m\u001b[0m\n\u001b[0;32m    934\u001b[0m         \u001b[1;31m# urllib might not use mode='rb', so handle this one ourselves:\u001b[0m\u001b[1;33m\u001b[0m\u001b[1;33m\u001b[0m\u001b[0m\n",
      "\u001b[1;32mc:\\users\\hp\\appdata\\local\\programs\\python\\python36-32\\lib\\site-packages\\nltk\\data.py\u001b[0m in \u001b[0;36mfind\u001b[1;34m(resource_name, paths)\u001b[0m\n\u001b[0;32m    651\u001b[0m     \u001b[0msep\u001b[0m \u001b[1;33m=\u001b[0m \u001b[1;34m'*'\u001b[0m \u001b[1;33m*\u001b[0m \u001b[1;36m70\u001b[0m\u001b[1;33m\u001b[0m\u001b[0m\n\u001b[0;32m    652\u001b[0m     \u001b[0mresource_not_found\u001b[0m \u001b[1;33m=\u001b[0m \u001b[1;34m'\\n%s\\n%s\\n%s'\u001b[0m \u001b[1;33m%\u001b[0m \u001b[1;33m(\u001b[0m\u001b[0msep\u001b[0m\u001b[1;33m,\u001b[0m \u001b[0mmsg\u001b[0m\u001b[1;33m,\u001b[0m \u001b[0msep\u001b[0m\u001b[1;33m)\u001b[0m\u001b[1;33m\u001b[0m\u001b[0m\n\u001b[1;32m--> 653\u001b[1;33m     \u001b[1;32mraise\u001b[0m \u001b[0mLookupError\u001b[0m\u001b[1;33m(\u001b[0m\u001b[0mresource_not_found\u001b[0m\u001b[1;33m)\u001b[0m\u001b[1;33m\u001b[0m\u001b[0m\n\u001b[0m\u001b[0;32m    654\u001b[0m \u001b[1;33m\u001b[0m\u001b[0m\n\u001b[0;32m    655\u001b[0m \u001b[1;33m\u001b[0m\u001b[0m\n",
      "\u001b[1;31mLookupError\u001b[0m: \n**********************************************************************\n  Resource 'tokenizers/punkt/english.pickle' not found.  Please\n  use the NLTK Downloader to obtain the resource:  >>>\n  nltk.download()\n  Searched in:\n    - 'C:\\\\Users\\\\hp/nltk_data'\n    - 'C:\\\\nltk_data'\n    - 'D:\\\\nltk_data'\n    - 'E:\\\\nltk_data'\n    - 'c:\\\\users\\\\hp\\\\appdata\\\\local\\\\programs\\\\python\\\\python36-32\\\\nltk_data'\n    - 'c:\\\\users\\\\hp\\\\appdata\\\\local\\\\programs\\\\python\\\\python36-32\\\\lib\\\\nltk_data'\n    - 'C:\\\\Users\\\\hp\\\\AppData\\\\Roaming\\\\nltk_data'\n    - ''\n**********************************************************************"
     ]
    }
   ],
   "source": [
    "from nltk.tokenize import sent_tokenize\n",
    "\n",
    "text = \"Hello World Munaf iad. codef moin ak charsi\"\n",
    "\n",
    "l = sent_tokenize(text)\n",
    "\n",
    "print(l)"
   ]
  },
  {
   "cell_type": "code",
   "execution_count": 8,
   "metadata": {},
   "outputs": [
    {
     "name": "stdout",
     "output_type": "stream",
     "text": [
      "Counter({1: 4, 3: 3, 2: 1, 15: 1, 4: 1})\n",
      "1 repeat 4 times\n"
     ]
    }
   ],
   "source": [
    "from collections import Counter\n",
    "\n",
    "l = [1,2,1,3,3,15,1,4,3,1]\n",
    "txt = Counter(l)\n",
    "print(txt)\n",
    "m = txt.most_common(1)\n",
    "\n",
    "\n",
    "print(\"{} repeat {} times\".format(m[0][0],m[0][1]))"
   ]
  },
  {
   "cell_type": "code",
   "execution_count": 1,
   "metadata": {},
   "outputs": [
    {
     "name": "stdout",
     "output_type": "stream",
     "text": [
      "ENTER NO OF INPUT: 4\n",
      "ENTER 0 INDEXED INPUT: 4\n",
      "ENTER 1 INDEXED INPUT: 1\n",
      "ENTER 2 INDEXED INPUT: 1\n",
      "ENTER 3 INDEXED INPUT: 4\n",
      "{4: 3, 1: 1}\n",
      "MINIMUM DISTANCE BETWEEN INDEX IS 1\n"
     ]
    }
   ],
   "source": [
    "\n",
    "\n",
    "#a = [1,2,3,7,2,4,2]\n",
    "v = {}\n",
    "\n",
    "'''\n",
    "ENTER LIST SIZE  AND THEN LIST\n",
    "\n",
    "AND IT WILL FIND MINIMUM NUMBER OF GAP BETWEEN WHICH NUMBER\n",
    "\n",
    "'''\n",
    "\n",
    "a = []\n",
    "for e in range(int(input(\"ENTER NO OF INPUT: \"))):\n",
    "    a.append(int(input(\"ENTER {} INDEXED INPUT: \".format(e) ) ) )\n",
    "\n",
    "for i in range(len(a)-1):\n",
    "    for j in range(i+1,len(a)):\n",
    "        if a[i] == a[j]:\n",
    "            v[a[i]] = abs(j - i)  \n",
    "\n",
    "print(v)\n",
    "m = min(v,key = v.get)\n",
    "\n",
    "print(\"MINIMUM DISTANCE BETWEEN INDEX IS {}\".format(m))"
   ]
  },
  {
   "cell_type": "code",
   "execution_count": 1,
   "metadata": {},
   "outputs": [
    {
     "name": "stdout",
     "output_type": "stream",
     "text": [
      "WelcomeReema\n"
     ]
    }
   ],
   "source": [
    "a = \"Welcome Reema\"\n",
    "\n",
    "print(a.replace(\" \",\"\"))"
   ]
  },
  {
   "cell_type": "code",
   "execution_count": 3,
   "metadata": {},
   "outputs": [
    {
     "name": "stdout",
     "output_type": "stream",
     "text": [
      "Enter Name: Munaf\n",
      "Enter Salary: 12346\n",
      "Enter Age: adad\n",
      "Enter Value In Integer Or Float\n"
     ]
    }
   ],
   "source": [
    "import msvcrt as m\n",
    "try:\n",
    "    def tmpData(name,sal,age):\n",
    "        print(\"Press Enter To Verify Data.\")\n",
    "        print(\"Your Name is \",name)\n",
    "        m.getch()\n",
    "        print(\"\")\n",
    "    \n",
    "    def writeData():\n",
    "        pass\n",
    "\n",
    "    def readData():\n",
    "        pass\n",
    "\n",
    "    def modifyData():\n",
    "        pass\n",
    "\n",
    "    def deleteData():\n",
    "        pass\n",
    "\n",
    "\n",
    "    emp_name = input(\"Enter Name: \")\n",
    "    emp_salary = float(input(\"Enter Salary: \"))\n",
    "    emp_age = int(input(\"Enter Age: \"))\n",
    "\n",
    "    tmpData(emp_name,emp_salary,emp_age)\n",
    "    \n",
    "except ValueError:\n",
    "    print(\"Enter Value In Integer Or Float\")\n",
    "    "
   ]
  },
  {
   "cell_type": "code",
   "execution_count": 10,
   "metadata": {},
   "outputs": [
    {
     "name": "stdout",
     "output_type": "stream",
     "text": [
      "Enter Deposit: 100\n",
      "Enter Rate: 20\n",
      "Enter Threshold: 200\n",
      "4\n"
     ]
    }
   ],
   "source": [
    "try:\n",
    "    deposit = int(input(\"Enter Deposit: \"))\n",
    "    rate = int(input(\"Enter Rate: \"))\n",
    "    threshold = int(input(\"Enter Threshold: \"))\n",
    "    c=0\n",
    "    \n",
    "    while threshold > deposit:\n",
    "        deposit += rate\n",
    "    \n",
    "        if deposit >= threshold:\n",
    "            print(c)\n",
    "        \n",
    "        else:\n",
    "            c+=1\n",
    "except ValueError:\n",
    "    print(\"Enter Correct Value\")"
   ]
  },
  {
   "cell_type": "code",
   "execution_count": 1,
   "metadata": {},
   "outputs": [
    {
     "name": "stdout",
     "output_type": "stream",
     "text": [
      "Boom\n",
      "Boom\n",
      "Boom\n",
      "Boom\n",
      "Boom\n"
     ]
    }
   ],
   "source": [
    "import threading\n",
    "\n",
    "def bang():\n",
    "    threading.Timer(5.0, bang).start()\n",
    "    print(\"Boom\")\n",
    "\n",
    "def main():\n",
    "    bang()\n",
    "    return 0\n",
    "\n",
    "if __name__ == '__main__':\n",
    "\tmain()"
   ]
  },
  {
   "cell_type": "code",
   "execution_count": null,
   "metadata": {},
   "outputs": [
    {
     "name": "stdout",
     "output_type": "stream",
     "text": [
      "Recording Audio\n",
      "Audio recording complete , Play Audio\n"
     ]
    }
   ],
   "source": [
    "import sounddevice as sd\n",
    "import numpy as np\n",
    "import scipy.io.wavfile as wav\n",
    "\n",
    "fs=44100\n",
    "duration = 5  # seconds\n",
    "myrecording = sd.rec(duration * fs, samplerate=fs, channels=2,dtype='float64')\n",
    "print(\"Recording Audio\")\n",
    "sd.wait()\n",
    "print(\"Audio recording complete , Play Audio\")\n",
    "sd.play(myrecording, fs)\n",
    "sd.wait()\n",
    "print(\"Play Audio Complete\")"
   ]
  },
  {
   "cell_type": "code",
   "execution_count": null,
   "metadata": {
    "collapsed": true
   },
   "outputs": [],
   "source": []
  },
  {
   "cell_type": "code",
   "execution_count": null,
   "metadata": {
    "collapsed": true
   },
   "outputs": [],
   "source": []
  }
 ],
 "metadata": {
  "celltoolbar": "Raw Cell Format",
  "kernelspec": {
   "display_name": "Python 3",
   "language": "python",
   "name": "python3"
  },
  "language_info": {
   "codemirror_mode": {
    "name": "ipython",
    "version": 3
   },
   "file_extension": ".py",
   "mimetype": "text/x-python",
   "name": "python",
   "nbconvert_exporter": "python",
   "pygments_lexer": "ipython3",
   "version": "3.6.2"
  }
 },
 "nbformat": 4,
 "nbformat_minor": 2
}
